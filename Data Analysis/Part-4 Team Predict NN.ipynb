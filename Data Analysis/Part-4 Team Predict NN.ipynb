{
 "cells": [
  {
   "cell_type": "markdown",
   "metadata": {},
   "source": [
    "# About this file\n",
    "\n",
    "Code contains two experiment 4.3 and 4.4 which are NN experiments to find out the playing team in a match"
   ]
  },
  {
   "cell_type": "markdown",
   "metadata": {},
   "source": [
    "# Importing Libraries"
   ]
  },
  {
   "cell_type": "code",
   "execution_count": 1,
   "metadata": {},
   "outputs": [
    {
     "name": "stderr",
     "output_type": "stream",
     "text": [
      "Using TensorFlow backend.\n"
     ]
    }
   ],
   "source": [
    "from keras.models import Model, Sequential\n",
    "from keras.layers.core import Activation\n",
    "from keras.layers.core import Dropout\n",
    "from keras.layers.core import Lambda\n",
    "from keras.layers.core import Dense\n",
    "from keras.layers import Flatten, Input\n",
    "from keras.utils import plot_model\n",
    "from sklearn.metrics import accuracy_score, confusion_matrix, precision_recall_fscore_support\n",
    "\n",
    "import tensorflow as tf\n",
    "import keras\n",
    "import pandas as pd\n",
    "import numpy as np\n",
    "import seaborn as sns"
   ]
  },
  {
   "cell_type": "markdown",
   "metadata": {},
   "source": [
    "# 1. Reading File"
   ]
  },
  {
   "cell_type": "code",
   "execution_count": 2,
   "metadata": {},
   "outputs": [
    {
     "data": {
      "text/html": [
       "<div>\n",
       "<style scoped>\n",
       "    .dataframe tbody tr th:only-of-type {\n",
       "        vertical-align: middle;\n",
       "    }\n",
       "\n",
       "    .dataframe tbody tr th {\n",
       "        vertical-align: top;\n",
       "    }\n",
       "\n",
       "    .dataframe thead th {\n",
       "        text-align: right;\n",
       "    }\n",
       "</style>\n",
       "<table border=\"1\" class=\"dataframe\">\n",
       "  <thead>\n",
       "    <tr style=\"text-align: right;\">\n",
       "      <th></th>\n",
       "      <th>team_a_zone_1_count</th>\n",
       "      <th>team_a_zone_2_count</th>\n",
       "      <th>team_a_zone_3_count</th>\n",
       "      <th>team_a_zone_4_count</th>\n",
       "      <th>team_a_zone_5_count</th>\n",
       "      <th>team_a_zone_6_count</th>\n",
       "      <th>team_a_zone_7_count</th>\n",
       "      <th>team_a_zone_8_count</th>\n",
       "      <th>team_a_zone_9_count</th>\n",
       "      <th>team_b_zone_1_count</th>\n",
       "      <th>...</th>\n",
       "      <th>team_b_zone_3_count</th>\n",
       "      <th>team_b_zone_4_count</th>\n",
       "      <th>team_b_zone_5_count</th>\n",
       "      <th>team_b_zone_6_count</th>\n",
       "      <th>team_b_zone_7_count</th>\n",
       "      <th>team_b_zone_8_count</th>\n",
       "      <th>team_b_zone_9_count</th>\n",
       "      <th>match_id</th>\n",
       "      <th>teama</th>\n",
       "      <th>teamb</th>\n",
       "    </tr>\n",
       "  </thead>\n",
       "  <tbody>\n",
       "    <tr>\n",
       "      <th>0</th>\n",
       "      <td>1580</td>\n",
       "      <td>1500</td>\n",
       "      <td>1999</td>\n",
       "      <td>3736</td>\n",
       "      <td>2596</td>\n",
       "      <td>4196</td>\n",
       "      <td>1483</td>\n",
       "      <td>882</td>\n",
       "      <td>1228</td>\n",
       "      <td>3732</td>\n",
       "      <td>...</td>\n",
       "      <td>1927</td>\n",
       "      <td>5115</td>\n",
       "      <td>1932</td>\n",
       "      <td>4092</td>\n",
       "      <td>1090</td>\n",
       "      <td>1272</td>\n",
       "      <td>1557</td>\n",
       "      <td>987592</td>\n",
       "      <td>Bournemouth</td>\n",
       "      <td>Cardiff City</td>\n",
       "    </tr>\n",
       "    <tr>\n",
       "      <th>1</th>\n",
       "      <td>2493</td>\n",
       "      <td>2177</td>\n",
       "      <td>1747</td>\n",
       "      <td>1095</td>\n",
       "      <td>934</td>\n",
       "      <td>1970</td>\n",
       "      <td>1052</td>\n",
       "      <td>581</td>\n",
       "      <td>438</td>\n",
       "      <td>1643</td>\n",
       "      <td>...</td>\n",
       "      <td>2683</td>\n",
       "      <td>4325</td>\n",
       "      <td>3729</td>\n",
       "      <td>4279</td>\n",
       "      <td>2535</td>\n",
       "      <td>4132</td>\n",
       "      <td>2499</td>\n",
       "      <td>987593</td>\n",
       "      <td>Arsenal</td>\n",
       "      <td>Manchester City</td>\n",
       "    </tr>\n",
       "    <tr>\n",
       "      <th>2</th>\n",
       "      <td>1520</td>\n",
       "      <td>1058</td>\n",
       "      <td>1151</td>\n",
       "      <td>4008</td>\n",
       "      <td>3713</td>\n",
       "      <td>3684</td>\n",
       "      <td>1493</td>\n",
       "      <td>2556</td>\n",
       "      <td>1287</td>\n",
       "      <td>1018</td>\n",
       "      <td>...</td>\n",
       "      <td>960</td>\n",
       "      <td>1816</td>\n",
       "      <td>2622</td>\n",
       "      <td>3022</td>\n",
       "      <td>1445</td>\n",
       "      <td>4238</td>\n",
       "      <td>2906</td>\n",
       "      <td>987594</td>\n",
       "      <td>Fulham</td>\n",
       "      <td>Crystal Palace</td>\n",
       "    </tr>\n",
       "    <tr>\n",
       "      <th>3</th>\n",
       "      <td>958</td>\n",
       "      <td>653</td>\n",
       "      <td>1245</td>\n",
       "      <td>1397</td>\n",
       "      <td>1527</td>\n",
       "      <td>1808</td>\n",
       "      <td>2049</td>\n",
       "      <td>3871</td>\n",
       "      <td>1464</td>\n",
       "      <td>1787</td>\n",
       "      <td>...</td>\n",
       "      <td>987</td>\n",
       "      <td>3878</td>\n",
       "      <td>4309</td>\n",
       "      <td>4407</td>\n",
       "      <td>2851</td>\n",
       "      <td>5955</td>\n",
       "      <td>3840</td>\n",
       "      <td>987595</td>\n",
       "      <td>Huddersfield Town</td>\n",
       "      <td>Chelsea</td>\n",
       "    </tr>\n",
       "    <tr>\n",
       "      <th>4</th>\n",
       "      <td>1510</td>\n",
       "      <td>1942</td>\n",
       "      <td>1752</td>\n",
       "      <td>3270</td>\n",
       "      <td>3211</td>\n",
       "      <td>3938</td>\n",
       "      <td>1275</td>\n",
       "      <td>1877</td>\n",
       "      <td>1869</td>\n",
       "      <td>382</td>\n",
       "      <td>...</td>\n",
       "      <td>1206</td>\n",
       "      <td>2211</td>\n",
       "      <td>3448</td>\n",
       "      <td>2942</td>\n",
       "      <td>2407</td>\n",
       "      <td>6293</td>\n",
       "      <td>2509</td>\n",
       "      <td>987596</td>\n",
       "      <td>Liverpool</td>\n",
       "      <td>West Ham United</td>\n",
       "    </tr>\n",
       "  </tbody>\n",
       "</table>\n",
       "<p>5 rows × 21 columns</p>\n",
       "</div>"
      ],
      "text/plain": [
       "   team_a_zone_1_count  team_a_zone_2_count  team_a_zone_3_count  \\\n",
       "0                 1580                 1500                 1999   \n",
       "1                 2493                 2177                 1747   \n",
       "2                 1520                 1058                 1151   \n",
       "3                  958                  653                 1245   \n",
       "4                 1510                 1942                 1752   \n",
       "\n",
       "   team_a_zone_4_count  team_a_zone_5_count  team_a_zone_6_count  \\\n",
       "0                 3736                 2596                 4196   \n",
       "1                 1095                  934                 1970   \n",
       "2                 4008                 3713                 3684   \n",
       "3                 1397                 1527                 1808   \n",
       "4                 3270                 3211                 3938   \n",
       "\n",
       "   team_a_zone_7_count  team_a_zone_8_count  team_a_zone_9_count  \\\n",
       "0                 1483                  882                 1228   \n",
       "1                 1052                  581                  438   \n",
       "2                 1493                 2556                 1287   \n",
       "3                 2049                 3871                 1464   \n",
       "4                 1275                 1877                 1869   \n",
       "\n",
       "   team_b_zone_1_count       ...         team_b_zone_3_count  \\\n",
       "0                 3732       ...                        1927   \n",
       "1                 1643       ...                        2683   \n",
       "2                 1018       ...                         960   \n",
       "3                 1787       ...                         987   \n",
       "4                  382       ...                        1206   \n",
       "\n",
       "   team_b_zone_4_count  team_b_zone_5_count  team_b_zone_6_count  \\\n",
       "0                 5115                 1932                 4092   \n",
       "1                 4325                 3729                 4279   \n",
       "2                 1816                 2622                 3022   \n",
       "3                 3878                 4309                 4407   \n",
       "4                 2211                 3448                 2942   \n",
       "\n",
       "   team_b_zone_7_count  team_b_zone_8_count  team_b_zone_9_count  match_id  \\\n",
       "0                 1090                 1272                 1557    987592   \n",
       "1                 2535                 4132                 2499    987593   \n",
       "2                 1445                 4238                 2906    987594   \n",
       "3                 2851                 5955                 3840    987595   \n",
       "4                 2407                 6293                 2509    987596   \n",
       "\n",
       "               teama            teamb  \n",
       "0        Bournemouth     Cardiff City  \n",
       "1            Arsenal  Manchester City  \n",
       "2             Fulham   Crystal Palace  \n",
       "3  Huddersfield Town          Chelsea  \n",
       "4          Liverpool  West Ham United  \n",
       "\n",
       "[5 rows x 21 columns]"
      ]
     },
     "execution_count": 2,
     "metadata": {},
     "output_type": "execute_result"
    }
   ],
   "source": [
    "file_name = \"E:\\\\MS DA\\\\Major Project Nuig\\\\complete_zones_counts.csv\"\n",
    "zone_details = pd.read_csv(file_name)\n",
    "zone_details.head()"
   ]
  },
  {
   "cell_type": "markdown",
   "metadata": {},
   "source": [
    "# 2. Teams Prediction"
   ]
  },
  {
   "cell_type": "markdown",
   "metadata": {},
   "source": [
    "## 2.1. For 18 Zones"
   ]
  },
  {
   "cell_type": "code",
   "execution_count": 3,
   "metadata": {},
   "outputs": [],
   "source": [
    "#Sliting the data into test and train data\n",
    "from sklearn.model_selection import train_test_split\n",
    "X_train_18, X_test_18, y_train_18, y_test_18 = train_test_split(zone_details[zone_details.columns.tolist()[0:-3]], zone_details[[\"teama\", \"teamb\"]], test_size=0.1, random_state=100)"
   ]
  },
  {
   "cell_type": "code",
   "execution_count": 4,
   "metadata": {},
   "outputs": [],
   "source": [
    "training_18_data_variables = X_train_18\n",
    "testing_18_data_variables = X_test_18"
   ]
  },
  {
   "cell_type": "code",
   "execution_count": 5,
   "metadata": {},
   "outputs": [
    {
     "data": {
      "text/plain": [
       "array([[ 979, 1591,  747, ...,  899,  598,  341],\n",
       "       [1583, 1192, 1008, ...,  815, 2063, 1302],\n",
       "       [1351, 1489,  846, ..., 1073,  870,  776],\n",
       "       ...,\n",
       "       [ 651,  310,  564, ...,  443,  912,  540],\n",
       "       [1153, 1319,  928, ..., 1565, 1741, 1617],\n",
       "       [1910, 1596, 1027, ..., 1210, 1533, 1331]], dtype=int64)"
      ]
     },
     "execution_count": 5,
     "metadata": {},
     "output_type": "execute_result"
    }
   ],
   "source": [
    "training_18_data_variables[[\"team_a_zone_1_count\", \"team_a_zone_2_count\", \"team_a_zone_3_count\", \"team_a_zone_4_count\", \"team_a_zone_5_count\", \"team_a_zone_6_count\", \"team_a_zone_7_count\", \"team_a_zone_8_count\", \"team_a_zone_9_count\"]].values"
   ]
  },
  {
   "cell_type": "code",
   "execution_count": 6,
   "metadata": {},
   "outputs": [
    {
     "data": {
      "text/plain": [
       "{0: 'Bournemouth',\n",
       " 1: 'Manchester City',\n",
       " 2: 'Tottenham Hotspur',\n",
       " 3: 'Leicester City',\n",
       " 4: 'Burnley',\n",
       " 5: 'Chelsea',\n",
       " 6: 'Huddersfield Town',\n",
       " 7: 'Cardiff City',\n",
       " 8: 'Brighton and Hove Albion',\n",
       " 9: 'Southampton',\n",
       " 10: 'Liverpool',\n",
       " 11: 'Manchester United',\n",
       " 12: 'Arsenal',\n",
       " 13: 'Newcastle United',\n",
       " 14: 'Crystal Palace',\n",
       " 15: 'Fulham',\n",
       " 16: 'Wolverhampton Wanderers',\n",
       " 17: 'Everton',\n",
       " 18: 'Watford',\n",
       " 19: 'West Ham United'}"
      ]
     },
     "execution_count": 6,
     "metadata": {},
     "output_type": "execute_result"
    }
   ],
   "source": [
    "#Creating a list of team names for one-hot encoding.\n",
    "teams_list = list(set(list(set(zone_details.teama)) + list(set(zone_details.teamb))))\n",
    "teams_list_dict = {j: teams_list[j] for j in range(len(teams_list))}\n",
    "teams_list_dict"
   ]
  },
  {
   "cell_type": "code",
   "execution_count": 7,
   "metadata": {},
   "outputs": [],
   "source": [
    "#Spliting the teams.\n",
    "training_data_labels = y_train_18\n",
    "label_1_numbers = []\n",
    "label_2_numbers = []\n",
    "\n",
    "for i in training_data_labels[\"teama\"]:\n",
    "    for k,v in teams_list_dict.items():\n",
    "        if (i == v):\n",
    "            label_1_numbers.append(k)\n",
    "\n",
    "for i in training_data_labels[\"teamb\"]:\n",
    "    for k,v in teams_list_dict.items():\n",
    "        if (i == v):\n",
    "            label_2_numbers.append(k)"
   ]
  },
  {
   "cell_type": "code",
   "execution_count": 8,
   "metadata": {},
   "outputs": [],
   "source": [
    "testing_data_labels = y_test_18\n",
    "label_3_numbers = []\n",
    "label_4_numbers = []\n",
    "\n",
    "for i in testing_data_labels[\"teama\"]:\n",
    "    for k,v in teams_list_dict.items():\n",
    "        if (i == v):\n",
    "            label_3_numbers.append(k)\n",
    "\n",
    "for i in testing_data_labels[\"teamb\"]:\n",
    "    for k,v in teams_list_dict.items():\n",
    "        if (i == v):\n",
    "            label_4_numbers.append(k)"
   ]
  },
  {
   "cell_type": "code",
   "execution_count": 9,
   "metadata": {},
   "outputs": [],
   "source": [
    "#Converting the teams into one-hot vector.\n",
    "training_data_label_1 = keras.utils.to_categorical(label_1_numbers, len(teams_list_dict))\n",
    "training_data_label_2 = keras.utils.to_categorical(label_2_numbers, len(teams_list_dict))"
   ]
  },
  {
   "cell_type": "code",
   "execution_count": 10,
   "metadata": {},
   "outputs": [
    {
     "name": "stdout",
     "output_type": "stream",
     "text": [
      "21 21\n"
     ]
    }
   ],
   "source": [
    "testing_data_label_1 = keras.utils.to_categorical(label_3_numbers, len(teams_list_dict))\n",
    "testing_data_label_2 = keras.utils.to_categorical(label_4_numbers, len(teams_list_dict))\n",
    "print(len(testing_data_label_1), len(testing_data_label_2))"
   ]
  },
  {
   "cell_type": "code",
   "execution_count": 11,
   "metadata": {},
   "outputs": [
    {
     "name": "stdout",
     "output_type": "stream",
     "text": [
      "WARNING:tensorflow:From D:\\Anaconda3\\lib\\site-packages\\tensorflow\\python\\framework\\op_def_library.py:263: colocate_with (from tensorflow.python.framework.ops) is deprecated and will be removed in a future version.\n",
      "Instructions for updating:\n",
      "Colocations handled automatically by placer.\n",
      "__________________________________________________________________________________________________\n",
      "Layer (type)                    Output Shape         Param #     Connected to                     \n",
      "==================================================================================================\n",
      "input_1 (InputLayer)            (None, 18)           0                                            \n",
      "__________________________________________________________________________________________________\n",
      "dense_1 (Dense)                 (None, 16)           304         input_1[0][0]                    \n",
      "__________________________________________________________________________________________________\n",
      "dense_2 (Dense)                 (None, 16)           272         dense_1[0][0]                    \n",
      "__________________________________________________________________________________________________\n",
      "dense_3 (Dense)                 (None, 20)           340         dense_2[0][0]                    \n",
      "__________________________________________________________________________________________________\n",
      "dense_4 (Dense)                 (None, 20)           340         dense_2[0][0]                    \n",
      "==================================================================================================\n",
      "Total params: 1,256\n",
      "Trainable params: 1,256\n",
      "Non-trainable params: 0\n",
      "__________________________________________________________________________________________________\n"
     ]
    }
   ],
   "source": [
    "#Defining the Model\n",
    "Input_18= Input(shape=(18, ))\n",
    "\n",
    "x_18 = Dense(16, activation='relu')(Input_18)\n",
    "x_18 = Dense(16, activation='relu')(x_18)\n",
    "\n",
    "out_18_1 = Dense(20,  activation='softmax')(x_18)\n",
    "out_18_2 = Dense(20,  activation='softmax')(x_18)\n",
    "\n",
    "model_18 = Model(inputs=Input_18, outputs=[out_18_1,out_18_2])\n",
    "model_18.compile(optimizer = \"rmsprop\", loss = 'mse', metrics=['accuracy'])\n",
    "model_18.summary()"
   ]
  },
  {
   "cell_type": "code",
   "execution_count": 12,
   "metadata": {},
   "outputs": [
    {
     "data": {
      "text/plain": [
       "['loss', 'dense_3_loss', 'dense_4_loss', 'dense_3_acc', 'dense_4_acc']"
      ]
     },
     "execution_count": 12,
     "metadata": {},
     "output_type": "execute_result"
    }
   ],
   "source": [
    "(model_18.metrics_names)"
   ]
  },
  {
   "cell_type": "code",
   "execution_count": 13,
   "metadata": {},
   "outputs": [
    {
     "data": {
      "text/plain": [
       "array([[ 979, 1591,  747, ..., 2439, 2161, 2058],\n",
       "       [1583, 1192, 1008, ..., 2461, 3951, 2295],\n",
       "       [1351, 1489,  846, ..., 1624, 1960,  663],\n",
       "       ...,\n",
       "       [ 651,  310,  564, ..., 1627, 2845, 1499],\n",
       "       [1153, 1319,  928, ..., 1088, 1255,  660],\n",
       "       [1910, 1596, 1027, ..., 2981, 5660, 4132]], dtype=int64)"
      ]
     },
     "execution_count": 13,
     "metadata": {},
     "output_type": "execute_result"
    }
   ],
   "source": [
    "# training_18_data_variables.shape\n",
    "training_18_data_variables.values"
   ]
  },
  {
   "cell_type": "code",
   "execution_count": 14,
   "metadata": {
    "scrolled": true
   },
   "outputs": [
    {
     "name": "stdout",
     "output_type": "stream",
     "text": [
      "189 189\n"
     ]
    }
   ],
   "source": [
    "x_18 = training_18_data_variables\n",
    "y_18 = [training_data_label_1, training_data_label_2]\n",
    "print(len(training_data_label_1), len(training_data_label_2))"
   ]
  },
  {
   "cell_type": "code",
   "execution_count": 15,
   "metadata": {},
   "outputs": [
    {
     "name": "stdout",
     "output_type": "stream",
     "text": [
      "WARNING:tensorflow:From D:\\Anaconda3\\lib\\site-packages\\tensorflow\\python\\ops\\math_ops.py:3066: to_int32 (from tensorflow.python.ops.math_ops) is deprecated and will be removed in a future version.\n",
      "Instructions for updating:\n",
      "Use tf.cast instead.\n",
      "Epoch 1/5\n",
      "189/189 [==============================] - 1s 3ms/step - loss: 0.1888 - dense_3_loss: 0.0946 - dense_4_loss: 0.0942 - dense_3_acc: 0.0529 - dense_4_acc: 0.0582\n",
      "Epoch 2/5\n",
      "189/189 [==============================] - 0s 53us/step - loss: 0.1889 - dense_3_loss: 0.0947 - dense_4_loss: 0.0942 - dense_3_acc: 0.0529 - dense_4_acc: 0.0582\n",
      "Epoch 3/5\n",
      "189/189 [==============================] - 0s 69us/step - loss: 0.1887 - dense_3_loss: 0.0945 - dense_4_loss: 0.0942 - dense_3_acc: 0.0529 - dense_4_acc: 0.0582\n",
      "Epoch 4/5\n",
      "189/189 [==============================] - 0s 48us/step - loss: 0.1889 - dense_3_loss: 0.0947 - dense_4_loss: 0.0942 - dense_3_acc: 0.0529 - dense_4_acc: 0.0582\n",
      "Epoch 5/5\n",
      "189/189 [==============================] - 0s 53us/step - loss: 0.1889 - dense_3_loss: 0.0947 - dense_4_loss: 0.0942 - dense_3_acc: 0.0529 - dense_4_acc: 0.0582\n"
     ]
    }
   ],
   "source": [
    "#Fitting the model\n",
    "model_18_history = model_18.fit(x_18, y_18, epochs=5, batch_size=None)"
   ]
  },
  {
   "cell_type": "code",
   "execution_count": 20,
   "metadata": {},
   "outputs": [
    {
     "name": "stdout",
     "output_type": "stream",
     "text": [
      "\r",
      "21/21 [==============================] - 0s 3ms/step\n"
     ]
    },
    {
     "data": {
      "text/plain": [
       "[0.1999998390674591, 0.09999984502792358, 0.09999999403953552, 0.0, 0.0]"
      ]
     },
     "execution_count": 20,
     "metadata": {},
     "output_type": "execute_result"
    }
   ],
   "source": [
    "#Evaluating the model\n",
    "model_18.evaluate(testing_18_data_variables, [testing_data_label_1, testing_data_label_2], batch_size=None)"
   ]
  },
  {
   "cell_type": "code",
   "execution_count": 21,
   "metadata": {},
   "outputs": [
    {
     "name": "stdout",
     "output_type": "stream",
     "text": [
      "Actual:                 teama    teamb\n",
      "165  Manchester City  Everton\n",
      "8 14\n",
      "Predicted:  Brighton and Hove Albion Crystal Palace\n"
     ]
    }
   ],
   "source": [
    "#Testing the team predicted\n",
    "r3 = model_18.predict(testing_18_data_variables[0:1], batch_size=None, verbose=0)\n",
    "\n",
    "result_1_key_3 = np.where(r3[0][0] == np.max(r3[0][0]))[0][0]\n",
    "result_2_key_3 = np.where(r3[1][0] == np.max(r3[1][0]))[0][0]\n",
    "print(\"Actual: \", testing_data_labels[0:1])\n",
    "print(result_1_key_3,result_2_key_3)\n",
    "print(\"Predicted: \", teams_list_dict.get(result_1_key_3), teams_list_dict.get(result_2_key_3))"
   ]
  },
  {
   "cell_type": "markdown",
   "metadata": {},
   "source": [
    "## 2.2. For 6 Zones"
   ]
  },
  {
   "cell_type": "code",
   "execution_count": 22,
   "metadata": {},
   "outputs": [],
   "source": [
    "#Preparing the data for the 6 zones\n",
    "zones_6_data = pd.DataFrame()\n",
    "zones_6_details = []\n",
    "for i in zone_details.iterrows():\n",
    "    zones_6_details.append([i[1].match_id, i[1].team_a_zone_1_count + i[1].team_a_zone_2_count + i[1].team_a_zone_3_count, i[1].team_a_zone_4_count + i[1].team_a_zone_5_count + i[1].team_a_zone_6_count, i[1].team_a_zone_7_count + i[1].team_a_zone_8_count + i[1].team_a_zone_9_count, i[1].team_b_zone_1_count + i[1].team_b_zone_2_count + i[1].team_b_zone_3_count, i[1].team_b_zone_4_count + i[1].team_b_zone_5_count + i[1].team_b_zone_6_count,i[1].team_b_zone_7_count + i[1].team_b_zone_8_count + i[1].team_b_zone_9_count, i[1].teama, i[1].teamb])\n",
    "    tmp = pd.DataFrame(zones_6_details, columns = [\"match_id\", \"team_a_defence\", \"team_a_midfield\", \"team_a_attack\", \"team_b_defence\", \"team_b_mdfield\", \"team_b_attack\", \"teama\", \"teamb\"])\n",
    "    zones_6_data = pd.DataFrame.append(zones_6_data, tmp)"
   ]
  },
  {
   "cell_type": "code",
   "execution_count": 23,
   "metadata": {
    "scrolled": true
   },
   "outputs": [
    {
     "data": {
      "text/html": [
       "<div>\n",
       "<style scoped>\n",
       "    .dataframe tbody tr th:only-of-type {\n",
       "        vertical-align: middle;\n",
       "    }\n",
       "\n",
       "    .dataframe tbody tr th {\n",
       "        vertical-align: top;\n",
       "    }\n",
       "\n",
       "    .dataframe thead th {\n",
       "        text-align: right;\n",
       "    }\n",
       "</style>\n",
       "<table border=\"1\" class=\"dataframe\">\n",
       "  <thead>\n",
       "    <tr style=\"text-align: right;\">\n",
       "      <th></th>\n",
       "      <th>match_id</th>\n",
       "      <th>team_a_defence</th>\n",
       "      <th>team_a_midfield</th>\n",
       "      <th>team_a_attack</th>\n",
       "      <th>team_b_defence</th>\n",
       "      <th>team_b_mdfield</th>\n",
       "      <th>team_b_attack</th>\n",
       "      <th>teama</th>\n",
       "      <th>teamb</th>\n",
       "    </tr>\n",
       "  </thead>\n",
       "  <tbody>\n",
       "    <tr>\n",
       "      <th>0</th>\n",
       "      <td>987592</td>\n",
       "      <td>5079</td>\n",
       "      <td>10528</td>\n",
       "      <td>3593</td>\n",
       "      <td>9234</td>\n",
       "      <td>11139</td>\n",
       "      <td>3919</td>\n",
       "      <td>Bournemouth</td>\n",
       "      <td>Cardiff City</td>\n",
       "    </tr>\n",
       "    <tr>\n",
       "      <th>1</th>\n",
       "      <td>987593</td>\n",
       "      <td>6417</td>\n",
       "      <td>3999</td>\n",
       "      <td>2071</td>\n",
       "      <td>7997</td>\n",
       "      <td>12333</td>\n",
       "      <td>9166</td>\n",
       "      <td>Arsenal</td>\n",
       "      <td>Manchester City</td>\n",
       "    </tr>\n",
       "    <tr>\n",
       "      <th>2</th>\n",
       "      <td>987594</td>\n",
       "      <td>3729</td>\n",
       "      <td>11405</td>\n",
       "      <td>5336</td>\n",
       "      <td>2888</td>\n",
       "      <td>7460</td>\n",
       "      <td>8589</td>\n",
       "      <td>Fulham</td>\n",
       "      <td>Crystal Palace</td>\n",
       "    </tr>\n",
       "    <tr>\n",
       "      <th>3</th>\n",
       "      <td>987595</td>\n",
       "      <td>2856</td>\n",
       "      <td>4732</td>\n",
       "      <td>7384</td>\n",
       "      <td>6048</td>\n",
       "      <td>12594</td>\n",
       "      <td>12646</td>\n",
       "      <td>Huddersfield Town</td>\n",
       "      <td>Chelsea</td>\n",
       "    </tr>\n",
       "    <tr>\n",
       "      <th>4</th>\n",
       "      <td>987596</td>\n",
       "      <td>5204</td>\n",
       "      <td>10419</td>\n",
       "      <td>5021</td>\n",
       "      <td>2134</td>\n",
       "      <td>8601</td>\n",
       "      <td>11209</td>\n",
       "      <td>Liverpool</td>\n",
       "      <td>West Ham United</td>\n",
       "    </tr>\n",
       "  </tbody>\n",
       "</table>\n",
       "</div>"
      ],
      "text/plain": [
       "   match_id  team_a_defence  team_a_midfield  team_a_attack  team_b_defence  \\\n",
       "0    987592            5079            10528           3593            9234   \n",
       "1    987593            6417             3999           2071            7997   \n",
       "2    987594            3729            11405           5336            2888   \n",
       "3    987595            2856             4732           7384            6048   \n",
       "4    987596            5204            10419           5021            2134   \n",
       "\n",
       "   team_b_mdfield  team_b_attack              teama            teamb  \n",
       "0           11139           3919        Bournemouth     Cardiff City  \n",
       "1           12333           9166            Arsenal  Manchester City  \n",
       "2            7460           8589             Fulham   Crystal Palace  \n",
       "3           12594          12646  Huddersfield Town          Chelsea  \n",
       "4            8601          11209          Liverpool  West Ham United  "
      ]
     },
     "execution_count": 23,
     "metadata": {},
     "output_type": "execute_result"
    }
   ],
   "source": [
    "zones_6_data = zones_6_data.drop_duplicates()\n",
    "zones_6_data.head()"
   ]
  },
  {
   "cell_type": "code",
   "execution_count": 24,
   "metadata": {},
   "outputs": [],
   "source": [
    "#Splitting the data into test and train\n",
    "X_train_6, X_test_6, y_train_6, y_test_6 = train_test_split(zones_6_data[zones_6_data.columns.tolist()[1:-2]], zones_6_data[[\"teama\", \"teamb\"]], test_size=0.1, random_state=100)"
   ]
  },
  {
   "cell_type": "code",
   "execution_count": 25,
   "metadata": {},
   "outputs": [],
   "source": [
    "training_6_data_variables = X_train_6\n",
    "training_6_data_labels = y_train_6"
   ]
  },
  {
   "cell_type": "code",
   "execution_count": 26,
   "metadata": {},
   "outputs": [],
   "source": [
    "#Separting the home and away teams labels\n",
    "label_5_numbers = []\n",
    "label_6_numbers = []\n",
    "\n",
    "for i in training_6_data_labels[\"teama\"]:\n",
    "    for k,v in teams_list_dict.items():\n",
    "        if (i == v):\n",
    "            label_5_numbers.append(k)     \n",
    "\n",
    "for i in training_6_data_labels[\"teamb\"]:\n",
    "    for k,v in teams_list_dict.items():\n",
    "        if (i == v):\n",
    "            label_6_numbers.append(k)"
   ]
  },
  {
   "cell_type": "code",
   "execution_count": 27,
   "metadata": {},
   "outputs": [],
   "source": [
    "#Converting the data into one-hot encoding\n",
    "training_6_data_label_1 = keras.utils.to_categorical(label_5_numbers, len(teams_list_dict))\n",
    "training_6_data_label_2 = keras.utils.to_categorical(label_6_numbers, len(teams_list_dict))"
   ]
  },
  {
   "cell_type": "code",
   "execution_count": 28,
   "metadata": {},
   "outputs": [
    {
     "name": "stdout",
     "output_type": "stream",
     "text": [
      "21 21\n"
     ]
    }
   ],
   "source": [
    "testing_6_data_labels = y_test_6\n",
    "label_7_numbers = []\n",
    "label_8_numbers = []\n",
    "\n",
    "for i in testing_6_data_labels[\"teama\"]:\n",
    "    for k,v in teams_list_dict.items():\n",
    "        if (i == v):\n",
    "            label_7_numbers.append(k)\n",
    "\n",
    "for i in testing_6_data_labels[\"teamb\"]:\n",
    "    for k,v in teams_list_dict.items():\n",
    "        if (i == v):\n",
    "            label_8_numbers.append(k)\n",
    "\n",
    "testing_6_data_label_1 = keras.utils.to_categorical(label_3_numbers, len(teams_list_dict))\n",
    "testing_6_data_label_2 = keras.utils.to_categorical(label_4_numbers, len(teams_list_dict))\n",
    "print(len(testing_6_data_label_1), len(testing_6_data_label_2))"
   ]
  },
  {
   "cell_type": "code",
   "execution_count": 29,
   "metadata": {},
   "outputs": [
    {
     "name": "stdout",
     "output_type": "stream",
     "text": [
      "__________________________________________________________________________________________________\n",
      "Layer (type)                    Output Shape         Param #     Connected to                     \n",
      "==================================================================================================\n",
      "input_2 (InputLayer)            (None, 6)            0                                            \n",
      "__________________________________________________________________________________________________\n",
      "dense_5 (Dense)                 (None, 64)           448         input_2[0][0]                    \n",
      "__________________________________________________________________________________________________\n",
      "dense_6 (Dense)                 (None, 64)           4160        dense_5[0][0]                    \n",
      "__________________________________________________________________________________________________\n",
      "dense_7 (Dense)                 (None, 20)           1300        dense_6[0][0]                    \n",
      "__________________________________________________________________________________________________\n",
      "dense_8 (Dense)                 (None, 20)           1300        dense_6[0][0]                    \n",
      "==================================================================================================\n",
      "Total params: 7,208\n",
      "Trainable params: 7,208\n",
      "Non-trainable params: 0\n",
      "__________________________________________________________________________________________________\n"
     ]
    }
   ],
   "source": [
    "#Initalising the Model\n",
    "Input_6= Input(shape=(6, ))\n",
    "\n",
    "x_6 = Dense(64, activation='relu')(Input_6)\n",
    "x_6 = Dense(64, activation='relu')(x_6)\n",
    "\n",
    "out_6_1 = Dense(20,  activation='softmax')(x_6)\n",
    "out_6_2 = Dense(20,  activation='softmax')(x_6)\n",
    "\n",
    "model_6 = Model(inputs=Input_6, outputs=[out_6_1,out_6_2])\n",
    "model_6.compile(optimizer = \"RMSProp\", loss = 'mse', metrics=['accuracy'])\n",
    "model_6.summary()"
   ]
  },
  {
   "cell_type": "code",
   "execution_count": 30,
   "metadata": {},
   "outputs": [],
   "source": [
    "x_6 = training_6_data_variables\n",
    "y_6 = [training_6_data_label_1, training_6_data_label_2]"
   ]
  },
  {
   "cell_type": "code",
   "execution_count": 31,
   "metadata": {},
   "outputs": [
    {
     "name": "stdout",
     "output_type": "stream",
     "text": [
      "Epoch 1/5\n",
      "189/189 [==============================] - 1s 3ms/step - loss: 0.1914 - dense_7_loss: 0.0961 - dense_8_loss: 0.0952 - dense_7_acc: 0.0370 - dense_8_acc: 0.0476\n",
      "Epoch 2/5\n",
      "189/189 [==============================] - 0s 69us/step - loss: 0.1899 - dense_7_loss: 0.0947 - dense_8_loss: 0.0952 - dense_7_acc: 0.0529 - dense_8_acc: 0.0476\n",
      "Epoch 3/5\n",
      "189/189 [==============================] - 0s 77us/step - loss: 0.1899 - dense_7_loss: 0.0947 - dense_8_loss: 0.0952 - dense_7_acc: 0.0529 - dense_8_acc: 0.0476\n",
      "Epoch 4/5\n",
      "189/189 [==============================] - 0s 79us/step - loss: 0.1898 - dense_7_loss: 0.0946 - dense_8_loss: 0.0952 - dense_7_acc: 0.0529 - dense_8_acc: 0.0476\n",
      "Epoch 5/5\n",
      "189/189 [==============================] - 0s 69us/step - loss: 0.1905 - dense_7_loss: 0.0952 - dense_8_loss: 0.0952 - dense_7_acc: 0.0476 - dense_8_acc: 0.0476\n"
     ]
    },
    {
     "data": {
      "text/plain": [
       "<keras.callbacks.History at 0x22b43bde320>"
      ]
     },
     "execution_count": 31,
     "metadata": {},
     "output_type": "execute_result"
    }
   ],
   "source": [
    "#Fitting the model\n",
    "model_6.fit(x_6, y_6, epochs=5)"
   ]
  },
  {
   "cell_type": "code",
   "execution_count": 32,
   "metadata": {
    "scrolled": true
   },
   "outputs": [
    {
     "name": "stdout",
     "output_type": "stream",
     "text": [
      "\r",
      "21/21 [==============================] - 0s 9ms/step\n"
     ]
    },
    {
     "data": {
      "text/plain": [
       "[0.18571428954601288,\n",
       " 0.095238097012043,\n",
       " 0.09047619253396988,\n",
       " 0.0476190485060215,\n",
       " 0.095238097012043]"
      ]
     },
     "execution_count": 32,
     "metadata": {},
     "output_type": "execute_result"
    }
   ],
   "source": [
    "#Evaluating the model\n",
    "model_6.evaluate(X_test_6, [testing_6_data_label_1, testing_6_data_label_2])"
   ]
  },
  {
   "cell_type": "code",
   "execution_count": 33,
   "metadata": {},
   "outputs": [
    {
     "name": "stdout",
     "output_type": "stream",
     "text": [
      "Actual:                 teama    teamb\n",
      "165  Manchester City  Everton\n",
      "9 11\n",
      "Predicted:  Southampton Manchester United\n"
     ]
    }
   ],
   "source": [
    "# testing the team predicted\n",
    "r4 = model_6.predict(X_test_6[0:1], batch_size=None, verbose=0)\n",
    "\n",
    "result_3_key_3 = np.where(r4[0][0] == np.max(r4[0][0]))[0][0]\n",
    "result_4_key_3 = np.where(r4[1][0] == np.max(r4[1][0]))[0][0]\n",
    "print(\"Actual: \", y_test_6[0:1])\n",
    "print(result_3_key_3,result_4_key_3)\n",
    "print(\"Predicted: \", teams_list_dict.get(result_3_key_3), teams_list_dict.get(result_4_key_3))"
   ]
  },
  {
   "cell_type": "markdown",
   "metadata": {},
   "source": [
    "# 3. Accuracy Of Models"
   ]
  },
  {
   "cell_type": "code",
   "execution_count": 34,
   "metadata": {},
   "outputs": [
    {
     "name": "stdout",
     "output_type": "stream",
     "text": [
      "42/42 [==============================] - 0s 71us/step\n"
     ]
    }
   ],
   "source": [
    "accuracy_6 = model_6.evaluate(training_6_data_variables[147:], [training_6_data_label_1[147:], training_6_data_label_2[147:]])"
   ]
  },
  {
   "cell_type": "code",
   "execution_count": 35,
   "metadata": {},
   "outputs": [
    {
     "name": "stdout",
     "output_type": "stream",
     "text": [
      "\r",
      "21/21 [==============================] - 0s 95us/step\n"
     ]
    }
   ],
   "source": [
    "accuracy_18 = model_18.evaluate(testing_18_data_variables, [testing_data_label_1, testing_data_label_2])"
   ]
  },
  {
   "cell_type": "markdown",
   "metadata": {},
   "source": [
    "# 4. Confusion Matries For Both Models"
   ]
  },
  {
   "cell_type": "code",
   "execution_count": 37,
   "metadata": {},
   "outputs": [
    {
     "name": "stdout",
     "output_type": "stream",
     "text": [
      "\r",
      "21/21 [==============================] - 0s 47us/step\n"
     ]
    }
   ],
   "source": [
    "model_6_pred = model_6.predict(X_test_6, batch_size=None, verbose=1)"
   ]
  },
  {
   "cell_type": "code",
   "execution_count": 38,
   "metadata": {},
   "outputs": [
    {
     "name": "stdout",
     "output_type": "stream",
     "text": [
      "\r",
      "21/21 [==============================] - 0s 47us/step\n"
     ]
    }
   ],
   "source": [
    "model_18_pred = model_18.predict(testing_18_data_variables, batch_size=None, verbose=1)"
   ]
  },
  {
   "cell_type": "code",
   "execution_count": 39,
   "metadata": {},
   "outputs": [
    {
     "data": {
      "image/png": "[encoded data removed]",
      "text/plain": [
       "<Figure size 864x720 with 1 Axes>"
      ]
     },
     "metadata": {
      "needs_background": "light"
     },
     "output_type": "display_data"
    }
   ],
   "source": [
    "from sklearn.metrics import accuracy_score, confusion_matrix, precision_recall_fscore_support\n",
    "import seaborn as sns\n",
    "\n",
    "y_true_6 = list(testing_6_data_label_1.argmax(1)) + list(testing_6_data_label_1.argmax(1))\n",
    "y_pred_6 = list(model_6_pred[0].argmax(1)) + list(model_6_pred[1].argmax(1))\n",
    "\n",
    "cm = confusion_matrix(y_true_6, y_pred_6,labels= list(teams_list_dict.keys())) \n",
    "\n",
    "# Transform to df for easier plotting\n",
    "cm_df = pd.DataFrame(cm, index = list(teams_list_dict.values()), columns = list(teams_list_dict.values()))\n",
    "\n",
    "plt.figure(figsize=(12,10))\n",
    "ax_6 = sns.heatmap(cm_df, annot=True, cmap=\"YlGnBu\", linewidths=.1, linecolor=\"black\", cbar=False)\n",
    "# coolwarm\n",
    "ax_6.xaxis.tick_top()\n",
    "ax_6.xaxis.set_label_position('top')\n",
    "plt.ylabel('True label', fontsize=20)\n",
    "plt.xlabel('Predicted label', fontsize=20)\n",
    "plt.xticks(rotation=90)\n",
    "plt.title(\"Confusion Matrix For 6 Inputs Nodes Neural Network\", fontsize=25, color='darkblue')\n",
    "# plt.show()\n",
    "plt.tight_layout()\n",
    "plt.subplots_adjust(top=0.70)\n",
    "# plt.savefig(\"E:\\\\MS DA\\\\Major Project Nuig\\\\NN_6_confusion_matrix_3.png\", facecolor='w', edgecolor='w', orientation='portrait')"
   ]
  },
  {
   "cell_type": "code",
   "execution_count": 44,
   "metadata": {},
   "outputs": [
    {
     "data": {
      "image/png": "[encoded data removed]",
      "text/plain": [
       "<Figure size 864x720 with 1 Axes>"
      ]
     },
     "metadata": {
      "needs_background": "light"
     },
     "output_type": "display_data"
    }
   ],
   "source": [
    "y_true_18 = list(testing_data_label_1.argmax(1)) + list(testing_data_label_2.argmax(1))\n",
    "y_pred_18 = list(model_18_pred[0].argmax(1)) + list(model_18_pred[1].argmax(1))\n",
    "\n",
    "cm = confusion_matrix(y_true_18, y_pred_18,labels= list(teams_list_dict.keys())) \n",
    "\n",
    "# Transform to df for easier plotting\n",
    "cm_df = pd.DataFrame(cm, index = list(teams_list_dict.values()), columns = list(teams_list_dict.values()))\n",
    "\n",
    "plt.figure(figsize=(12,10))\n",
    "ax_18 = sns.heatmap(cm_df, annot=True, cmap=\"YlGnBu\", linewidths=.1, linecolor=\"black\", cbar=False)\n",
    "# coolwarm\n",
    "ax_18.xaxis.tick_top()\n",
    "ax_18.xaxis.set_label_position('top')\n",
    "plt.ylabel('True label', fontsize=20)\n",
    "plt.xlabel('Predicted label', fontsize=20)\n",
    "plt.xticks(rotation=90)\n",
    "plt.title(\"Confusion Matrix For 18 Input Nodes Neural Network\", fontsize=25, color='darkblue')\n",
    "# plt.show()\n",
    "plt.tight_layout()\n",
    "plt.subplots_adjust(top=0.70)\n",
    "# plt.savefig(\"E:\\\\MS DA\\\\Major Project Nuig\\\\NN_18_confusion_matrix_3.png\", facecolor='w', edgecolor='w', orientation='portrait')"
   ]
  }
 ],
 "metadata": {
  "kernelspec": {
   "display_name": "Python 3",
   "language": "python",
   "name": "python3"
  },
  "language_info": {
   "codemirror_mode": {
    "name": "ipython",
    "version": 3
   },
   "file_extension": ".py",
   "mimetype": "text/x-python",
   "name": "python",
   "nbconvert_exporter": "python",
   "pygments_lexer": "ipython3",
   "version": "3.7.1"
  }
 },
 "nbformat": 4,
 "nbformat_minor": 2
}
